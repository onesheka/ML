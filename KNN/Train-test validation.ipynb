{
 "cells": [
  {
   "cell_type": "markdown",
   "metadata": {},
   "source": [
    "# Train-test Validation\n",
    "Splitting the dataset into training and testing datasets."
   ]
  },
  {
   "cell_type": "code",
   "execution_count": 1,
   "metadata": {},
   "outputs": [],
   "source": [
    "import pandas as pd\n",
    "import numpy as np\n",
    "home_listings = pd.read_csv('listings.csv')\n",
    "home_listings['price'] = home_listings['price'].str.replace(\",\",\"\")\n",
    "home_listings['price'] = home_listings['price'].str.replace(\"$\",\"\")\n",
    "home_listings['price'] = home_listings['price'].astype('float')\n"
   ]
  },
  {
   "cell_type": "code",
   "execution_count": 2,
   "metadata": {},
   "outputs": [],
   "source": [
    "train_data = home_listings[0:2792]\n",
    "test_data = home_listings[2792: ]\n",
    "def predict_price(new_listing):\n",
    "    temp_data = train_data.copy()\n",
    "    temp_data['distance'] = temp_data['accommodates'].apply(lambda x: np.abs(x - new_listing))\n",
    "    temp_data = temp_data.sort_values('distance')\n",
    "    nearest_neighbor_prices = temp_data.iloc[0:5]['price']\n",
    "    predicted_price = nearest_neighbor_prices.mean()\n",
    "    return(predicted_price)"
   ]
  },
  {
   "cell_type": "code",
   "execution_count": 10,
   "metadata": {},
   "outputs": [
    {
     "name": "stderr",
     "output_type": "stream",
     "text": [
      "C:\\Users\\HP\\Anaconda3\\lib\\site-packages\\ipykernel_launcher.py:1: SettingWithCopyWarning: \n",
      "A value is trying to be set on a copy of a slice from a DataFrame.\n",
      "Try using .loc[row_indexer,col_indexer] = value instead\n",
      "\n",
      "See the caveats in the documentation: http://pandas.pydata.org/pandas-docs/stable/indexing.html#indexing-view-versus-copy\n",
      "  \"\"\"Entry point for launching an IPython kernel.\n"
     ]
    }
   ],
   "source": [
    "test_data[\"predicted_price\"] = test_data[\"accommodates\"].apply(predict_price)"
   ]
  },
  {
   "cell_type": "markdown",
   "metadata": {},
   "source": [
    "### Error Metrics\n",
    "Mean Absolute Error"
   ]
  },
  {
   "cell_type": "code",
   "execution_count": 11,
   "metadata": {},
   "outputs": [
    {
     "data": {
      "text/plain": [
       "56.29001074113876"
      ]
     },
     "execution_count": 11,
     "metadata": {},
     "output_type": "execute_result"
    }
   ],
   "source": [
    "mae = sum(np.absolute(test_data['predicted_price']-test_data['price']))/len(test_data)\n",
    "mae"
   ]
  },
  {
   "cell_type": "markdown",
   "metadata": {},
   "source": [
    "### Mean Squared Error"
   ]
  },
  {
   "cell_type": "code",
   "execution_count": 17,
   "metadata": {},
   "outputs": [
    {
     "name": "stdout",
     "output_type": "stream",
     "text": [
      "mae:  56.29001074113876\n",
      "mse:  18646.525370569325\n",
      "rmse:  136.55228072269364\n"
     ]
    }
   ],
   "source": [
    "mse = sum(np.absolute(test_data['predicted_price']-test_data['price'])**2)/len(test_data)\n",
    "print(\"mae: \",mae)\n",
    "print(\"mse: \",mse)\n",
    "print(\"rmse: \",mse**0.5)"
   ]
  },
  {
   "cell_type": "markdown",
   "metadata": {},
   "source": [
    "### Using another metric for training a new model"
   ]
  },
  {
   "cell_type": "code",
   "execution_count": 21,
   "metadata": {},
   "outputs": [
    {
     "name": "stdout",
     "output_type": "stream",
     "text": [
      "18405.444081632548\n"
     ]
    },
    {
     "name": "stderr",
     "output_type": "stream",
     "text": [
      "C:\\Users\\HP\\Anaconda3\\lib\\site-packages\\ipykernel_launcher.py:12: SettingWithCopyWarning: \n",
      "A value is trying to be set on a copy of a slice from a DataFrame.\n",
      "Try using .loc[row_indexer,col_indexer] = value instead\n",
      "\n",
      "See the caveats in the documentation: http://pandas.pydata.org/pandas-docs/stable/indexing.html#indexing-view-versus-copy\n",
      "  if sys.path[0] == '':\n",
      "C:\\Users\\HP\\Anaconda3\\lib\\site-packages\\ipykernel_launcher.py:13: SettingWithCopyWarning: \n",
      "A value is trying to be set on a copy of a slice from a DataFrame.\n",
      "Try using .loc[row_indexer,col_indexer] = value instead\n",
      "\n",
      "See the caveats in the documentation: http://pandas.pydata.org/pandas-docs/stable/indexing.html#indexing-view-versus-copy\n",
      "  del sys.path[0]\n"
     ]
    }
   ],
   "source": [
    "train_data = home_listings.iloc[0:2792]\n",
    "test_data = home_listings.iloc[2792:]\n",
    "\n",
    "def predict_price(new_listing):\n",
    "    temp_data = train_data.copy()\n",
    "    temp_data['distance'] = temp_data['bathrooms'].apply(lambda x: np.abs(x - new_listing))\n",
    "    temp_data = temp_data.sort_values('distance')\n",
    "    nearest_neighbors_prices = temp_data.iloc[0:5]['price']\n",
    "    predicted_price = nearest_neighbors_prices.mean()\n",
    "    return(predicted_price)\n",
    "\n",
    "test_data[\"predicted_price\"] = test_data[\"bathrooms\"].apply(predict_price)\n",
    "test_data[\"squared_error\"] = (test_data[\"predicted_price\"] - test_data[\"price\"]) ** 2\n",
    "mse = test_data[\"squared_error\"].mean()\n",
    "print(mse)\n"
   ]
  },
  {
   "cell_type": "markdown",
   "metadata": {},
   "source": [
    "### Comapring MAE and RMSE values"
   ]
  },
  {
   "cell_type": "code",
   "execution_count": 22,
   "metadata": {},
   "outputs": [
    {
     "name": "stdout",
     "output_type": "stream",
     "text": [
      "mae_one: 7.5\n",
      "rmse_one: 7.905694150420948\n",
      "\n",
      "mae_two: 62.5\n",
      "rmse_two: 235.82302686548658\n"
     ]
    }
   ],
   "source": [
    "errors_one = pd.Series([5, 10, 5, 10, 5, 10, 5, 10, 5, 10, 5, 10, 5, 10, 5, 10, 5, 10])\n",
    "errors_two = pd.Series([5, 10, 5, 10, 5, 10, 5, 10, 5, 10, 5, 10, 5, 10, 5, 10, 5, 1000])\n",
    "\n",
    "mae_one = errors_one.sum() / len(errors_one)\n",
    "mae_two = errors_two.sum() / len(errors_two)\n",
    "\n",
    "rmse_one = np.sqrt((errors_one**2).sum()/len(errors_one))\n",
    "rmse_two = np.sqrt((errors_two**2).sum()/len(errors_two))\n",
    "\n",
    "print('mae_one:', mae_one)\n",
    "print('rmse_one:', rmse_one)\n",
    "print('')\n",
    "print('mae_two:', mae_two)\n",
    "print('rmse_two:', rmse_two)"
   ]
  },
  {
   "cell_type": "code",
   "execution_count": null,
   "metadata": {},
   "outputs": [],
   "source": []
  }
 ],
 "metadata": {
  "kernelspec": {
   "display_name": "Python 3",
   "language": "python",
   "name": "python3"
  },
  "language_info": {
   "codemirror_mode": {
    "name": "ipython",
    "version": 3
   },
   "file_extension": ".py",
   "mimetype": "text/x-python",
   "name": "python",
   "nbconvert_exporter": "python",
   "pygments_lexer": "ipython3",
   "version": "3.6.5"
  }
 },
 "nbformat": 4,
 "nbformat_minor": 2
}
