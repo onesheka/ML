{
 "cells": [
  {
   "cell_type": "markdown",
   "metadata": {},
   "source": [
    "### Exploring Data"
   ]
  },
  {
   "cell_type": "code",
   "execution_count": 2,
   "metadata": {},
   "outputs": [
    {
     "data": {
      "text/html": [
       "<div>\n",
       "<style scoped>\n",
       "    .dataframe tbody tr th:only-of-type {\n",
       "        vertical-align: middle;\n",
       "    }\n",
       "\n",
       "    .dataframe tbody tr th {\n",
       "        vertical-align: top;\n",
       "    }\n",
       "\n",
       "    .dataframe thead th {\n",
       "        text-align: right;\n",
       "    }\n",
       "</style>\n",
       "<table border=\"1\" class=\"dataframe\">\n",
       "  <thead>\n",
       "    <tr style=\"text-align: right;\">\n",
       "      <th></th>\n",
       "      <th>date</th>\n",
       "      <th>value</th>\n",
       "    </tr>\n",
       "  </thead>\n",
       "  <tbody>\n",
       "    <tr>\n",
       "      <th>0</th>\n",
       "      <td>27/06/2005</td>\n",
       "      <td>1190.689941</td>\n",
       "    </tr>\n",
       "    <tr>\n",
       "      <th>1</th>\n",
       "      <td>28/06/2005</td>\n",
       "      <td>1201.569946</td>\n",
       "    </tr>\n",
       "    <tr>\n",
       "      <th>2</th>\n",
       "      <td>29/06/2005</td>\n",
       "      <td>1199.849976</td>\n",
       "    </tr>\n",
       "    <tr>\n",
       "      <th>3</th>\n",
       "      <td>30/06/2005</td>\n",
       "      <td>1191.329956</td>\n",
       "    </tr>\n",
       "    <tr>\n",
       "      <th>4</th>\n",
       "      <td>1/07/2005</td>\n",
       "      <td>1194.439941</td>\n",
       "    </tr>\n",
       "  </tbody>\n",
       "</table>\n",
       "</div>"
      ],
      "text/plain": [
       "         date        value\n",
       "0  27/06/2005  1190.689941\n",
       "1  28/06/2005  1201.569946\n",
       "2  29/06/2005  1199.849976\n",
       "3  30/06/2005  1191.329956\n",
       "4   1/07/2005  1194.439941"
      ]
     },
     "execution_count": 2,
     "metadata": {},
     "output_type": "execute_result"
    }
   ],
   "source": [
    "import pandas as pd\n",
    "data = pd.read_csv(\"datasetv.csv\")\n",
    "data.head()"
   ]
  },
  {
   "cell_type": "code",
   "execution_count": 3,
   "metadata": {},
   "outputs": [
    {
     "data": {
      "text/plain": [
       "(2606, 2)"
      ]
     },
     "execution_count": 3,
     "metadata": {},
     "output_type": "execute_result"
    }
   ],
   "source": [
    "data.shape"
   ]
  },
  {
   "cell_type": "code",
   "execution_count": 14,
   "metadata": {},
   "outputs": [
    {
     "name": "stdout",
     "output_type": "stream",
     "text": [
      "            date        value     next_day\n",
      "2595  16/10/2015  2033.109985  2033.660034\n",
      "2596  19/10/2015  2033.660034  2030.770020\n",
      "2597  20/10/2015  2030.770020  2018.939941\n",
      "2598  21/10/2015  2018.939941  2052.510010\n",
      "2599  22/10/2015  2052.510010  2075.149902\n",
      "2600  23/10/2015  2075.149902  2071.179932\n",
      "2601  26/10/2015  2071.179932  2065.889893\n",
      "2602  27/10/2015  2065.889893  2090.350098\n",
      "2603  28/10/2015  2090.350098  2089.409912\n",
      "2604  29/10/2015  2089.409912  2079.360107\n"
     ]
    }
   ],
   "source": [
    "print(data.tail(10))\n",
    "data = data.copy()\n",
    "next_day = data[\"value\"].iloc[1:]\n",
    "data = data.iloc[:-1,:]\n",
    "data[\"next_day\"] = next_day.values"
   ]
  },
  {
   "cell_type": "code",
   "execution_count": 17,
   "metadata": {},
   "outputs": [
    {
     "name": "stdout",
     "output_type": "stream",
     "text": [
      "date         object\n",
      "value       float64\n",
      "next_day    float64\n",
      "dtype: object\n"
     ]
    }
   ],
   "source": [
    "print(data.dtypes)\n",
    "\n",
    "data[\"value\"] = data[\"value\"].astype(float)\n",
    "data[\"next_day\"] = data[\"next_day\"].astype(float)"
   ]
  },
  {
   "cell_type": "markdown",
   "metadata": {},
   "source": [
    "### making predictions"
   ]
  },
  {
   "cell_type": "code",
   "execution_count": 19,
   "metadata": {},
   "outputs": [
    {
     "name": "stdout",
     "output_type": "stream",
     "text": [
      "next day predictions: [1191.1249244  1202.00060215 1200.28131622 ... 2071.26472264 2065.97678762\n",
      " 2090.42726419]\n"
     ]
    }
   ],
   "source": [
    "from sklearn.linear_model import LinearRegression\n",
    "\n",
    "regressor = LinearRegression()\n",
    "\n",
    "predictors = data[[\"value\"]]\n",
    "to_predict = data[\"next_day\"]\n",
    "\n",
    "regressor.fit(predictors, to_predict)\n",
    "\n",
    "next_day_predictions = regressor.predict(predictors)\n",
    "print(\"next day predictions:\", next_day_predictions)"
   ]
  },
  {
   "cell_type": "markdown",
   "metadata": {},
   "source": [
    "### error"
   ]
  },
  {
   "cell_type": "code",
   "execution_count": 20,
   "metadata": {},
   "outputs": [
    {
     "name": "stdout",
     "output_type": "stream",
     "text": [
      "628419.0065578189\n"
     ]
    }
   ],
   "source": [
    "mse = sum((to_predict - next_day_predictions)** 2)\n",
    "print(mse)\n",
    "\n",
    "mse = mse / len(next_day_predictions)"
   ]
  },
  {
   "cell_type": "markdown",
   "metadata": {},
   "source": [
    "### overfitting"
   ]
  },
  {
   "cell_type": "code",
   "execution_count": 21,
   "metadata": {},
   "outputs": [
    {
     "name": "stdout",
     "output_type": "stream",
     "text": [
      "256.0168479847017\n"
     ]
    }
   ],
   "source": [
    "import numpy as np\n",
    "import random\n",
    "\n",
    "np.random.seed(1)\n",
    "random.seed(1)\n",
    "\n",
    "data = data.loc[np.random.permutation(data.index)]\n",
    "\n",
    "highest_train_row = int(data.shape[0] * .7)\n",
    "train = data.loc[:highest_train_row,:]\n",
    "\n",
    "test = data.loc[highest_train_row:,:]\n",
    "\n",
    "regressor = LinearRegression()\n",
    "regressor.fit(train[[\"value\"]], train[\"next_day\"])\n",
    "predictions = regressor.predict(test[[\"value\"]])\n",
    "\n",
    "mse = sum((predictions - test[\"next_day\"])**2) / len(predictions)\n",
    "print(mse)\n",
    "\n"
   ]
  },
  {
   "cell_type": "markdown",
   "metadata": {},
   "source": [
    "### visualizing"
   ]
  },
  {
   "cell_type": "code",
   "execution_count": 23,
   "metadata": {},
   "outputs": [
    {
     "data": {
      "image/png": "[encoded data removed]",
      "text/plain": [
       "<Figure size 432x288 with 1 Axes>"
      ]
     },
     "metadata": {},
     "output_type": "display_data"
    },
    {
     "data": {
      "image/png": "[encoded data removed]",
      "text/plain": [
       "<Figure size 432x288 with 1 Axes>"
      ]
     },
     "metadata": {},
     "output_type": "display_data"
    }
   ],
   "source": [
    "import matplotlib.pyplot as plt\n",
    "\n",
    "plt.scatter(train[\"value\"], train[\"next_day\"])\n",
    "plt.plot(train[\"value\"], regressor.predict(train[[\"value\"]]))\n",
    "plt.show()\n",
    "\n",
    "plt.scatter(test[\"value\"], test[\"next_day\"])\n",
    "plt.plot(test[\"value\"], predictions)\n",
    "plt.show()"
   ]
  },
  {
   "cell_type": "code",
   "execution_count": 27,
   "metadata": {},
   "outputs": [
    {
     "name": "stdout",
     "output_type": "stream",
     "text": [
      "rmse val:  16.00052649085966\n",
      "mae val:  11.109866827683486\n"
     ]
    }
   ],
   "source": [
    "import math\n",
    "\n",
    "rmse = math.sqrt(sum((predictions - test[\"next_day\"]) ** 2) / len(predictions))\n",
    "print(\"rmse val: \",rmse)\n",
    "\n",
    "mae = sum(abs(predictions - test[\"next_day\"])) / len(predictions)\n",
    "print(\"mae val: \",mae)"
   ]
  },
  {
   "cell_type": "code",
   "execution_count": null,
   "metadata": {},
   "outputs": [],
   "source": []
  }
 ],
 "metadata": {
  "kernelspec": {
   "display_name": "Python 3",
   "language": "python",
   "name": "python3"
  },
  "language_info": {
   "codemirror_mode": {
    "name": "ipython",
    "version": 3
   },
   "file_extension": ".py",
   "mimetype": "text/x-python",
   "name": "python",
   "nbconvert_exporter": "python",
   "pygments_lexer": "ipython3",
   "version": "3.6.5"
  }
 },
 "nbformat": 4,
 "nbformat_minor": 2
}
