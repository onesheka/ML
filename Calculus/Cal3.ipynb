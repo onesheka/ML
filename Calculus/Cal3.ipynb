{
 "cells": [
  {
   "cell_type": "markdown",
   "metadata": {},
   "source": [
    "# Extreme Limits"
   ]
  },
  {
   "cell_type": "code",
   "execution_count": 1,
   "metadata": {},
   "outputs": [],
   "source": [
    "import matplotlib.pyplot as plt\n",
    "import numpy as np\n",
    "import sympy as s"
   ]
  },
  {
   "cell_type": "code",
   "execution_count": 3,
   "metadata": {},
   "outputs": [],
   "source": [
    "X = np.linspace(-5,6,110)"
   ]
  },
  {
   "cell_type": "code",
   "execution_count": 5,
   "metadata": {},
   "outputs": [
    {
     "data": {
      "image/png": "[encoded data removed]",
      "text/plain": [
       "<Figure size 432x288 with 1 Axes>"
      ]
     },
     "metadata": {},
     "output_type": "display_data"
    }
   ],
   "source": [
    "c,y = s.symbols('X y')\n",
    "y = -2 * X + 3\n",
    "fig = plt.figure()\n",
    "plt.plot(X,y)\n",
    "plt.xlabel('X')\n",
    "plt.ylabel('slope')\n",
    "plt.show()"
   ]
  },
  {
   "cell_type": "code",
   "execution_count": 6,
   "metadata": {},
   "outputs": [
    {
     "name": "stdout",
     "output_type": "stream",
     "text": [
      "80\n",
      "0\n"
     ]
    }
   ],
   "source": [
    "x1,x2,y1,y2 = s.symbols('x1 x2 y1 y2')\n",
    "x1 = 2\n",
    "x2 = 0\n",
    "y1 = 5 * x1**4\n",
    "y2 = 9 * x2**8\n",
    "\n",
    "one_slope = y1\n",
    "two_slope = y2\n",
    "\n",
    "print(one_slope)\n",
    "print(two_slope)"
   ]
  },
  {
   "cell_type": "code",
   "execution_count": 7,
   "metadata": {},
   "outputs": [
    {
     "name": "stdout",
     "output_type": "stream",
     "text": [
      "4\n",
      "8\n"
     ]
    }
   ],
   "source": [
    "x1 = 1\n",
    "x2 = 2\n",
    "\n",
    "y1 = 5* x1**4 - 1\n",
    "y2 = 3* x2**2 - 2 * x2\n",
    "\n",
    "three_slope = y1\n",
    "four_slope = y2\n",
    "\n",
    "print(three_slope)\n",
    "print(four_slope)"
   ]
  },
  {
   "cell_type": "code",
   "execution_count": 13,
   "metadata": {},
   "outputs": [
    {
     "name": "stdout",
     "output_type": "stream",
     "text": [
      "0\n",
      "0.002003\n",
      "-0.001997\n",
      "0.6666666666666666\n",
      "-0.0019970000000002486\n",
      "0.002002999999999977\n",
      "[0]\n",
      "[0.6666666666666666]\n"
     ]
    }
   ],
   "source": [
    "import sympy\n",
    "rel_min = []\n",
    "rel_max = []\n",
    "    \n",
    "X,y = sympy.symbols('X y')\n",
    "extreme_one = 0\n",
    "extreme_two = 2/3\n",
    "\n",
    "print(extreme_one)\n",
    "X = extreme_one - 0.001\n",
    "start_slope = 3 * X**2 - 2 * X\n",
    "print(start_slope)\n",
    "X = extreme_one + 0.001\n",
    "end_slope = 3 * X**2 - 2 * X\n",
    "print(end_slope)\n",
    "rel_max.append(extreme_one)\n",
    "\n",
    "\n",
    "print(extreme_two)\n",
    "X = extreme_two - 0.001\n",
    "start_slope = 3 * X**2 - 2 * X\n",
    "print(start_slope)\n",
    "X = extreme_two + 0.001\n",
    "end_slope = 3 * X**2 - 2 * X\n",
    "print(end_slope)\n",
    "rel_min.append(extreme_two)\n",
    " \n",
    "    \n",
    "print(rel_max)\n",
    "print(rel_min)"
   ]
  },
  {
   "cell_type": "code",
   "execution_count": null,
   "metadata": {},
   "outputs": [],
   "source": []
  }
 ],
 "metadata": {
  "kernelspec": {
   "display_name": "Python 3",
   "language": "python",
   "name": "python3"
  },
  "language_info": {
   "codemirror_mode": {
    "name": "ipython",
    "version": 3
   },
   "file_extension": ".py",
   "mimetype": "text/x-python",
   "name": "python",
   "nbconvert_exporter": "python",
   "pygments_lexer": "ipython3",
   "version": "3.6.5"
  }
 },
 "nbformat": 4,
 "nbformat_minor": 2
}
