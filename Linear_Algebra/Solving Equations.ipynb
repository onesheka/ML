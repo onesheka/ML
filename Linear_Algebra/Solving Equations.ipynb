{
 "cells": [
  {
   "cell_type": "markdown",
   "metadata": {},
   "source": [
    "### Solving Equations\n",
    "Guass's Method"
   ]
  },
  {
   "cell_type": "code",
   "execution_count": 6,
   "metadata": {},
   "outputs": [
    {
     "name": "stdout",
     "output_type": "stream",
     "text": [
      "[[ 2.  1.  5.]\n",
      " [ 3.  2. 40.]]\n",
      "[[ 4.  2. 10.]\n",
      " [ 3.  2. 40.]]\n",
      "[[  1.   0. -30.]\n",
      " [  3.   2.  40.]]\n",
      "[[  1.   0. -30.]\n",
      " [  0.   2. 130.]]\n",
      "[[  1.   0. -30.]\n",
      " [  0.   1.  65.]]\n"
     ]
    }
   ],
   "source": [
    "import numpy as np\n",
    "\n",
    "### 2 equations we are solving 2x + y = 5, 3x + 2y = 40\n",
    "matrix = np.asarray([\n",
    "    [2,1,5],\n",
    "    [3,2,40]\n",
    "], dtype=np.float32)\n",
    "print(matrix)\n",
    "\n",
    "matrix[0] = matrix[0]*2\n",
    "print(matrix)\n",
    "\n",
    "matrix[0] = matrix[0] - matrix[1]\n",
    "print(matrix)\n",
    "\n",
    "matrix[1] = matrix[1] - (3*matrix[0])\n",
    "print(matrix)\n",
    "\n",
    "matrix[1] = matrix[1] / 2\n",
    "print(matrix)\n",
    "## hence the value for x and y are -30 and 65 respectively."
   ]
  },
  {
   "cell_type": "markdown",
   "metadata": {},
   "source": []
  },
  {
   "cell_type": "code",
   "execution_count": 11,
   "metadata": {},
   "outputs": [
    {
     "name": "stdout",
     "output_type": "stream",
     "text": [
      "[[ 1.  2.  0.  7.]\n",
      " [ 0.  3.  3. 11.]\n",
      " [ 1.  2.  2. 11.]]\n",
      "[[ 1.  2.  0.  7.]\n",
      " [ 0.  3.  3. 11.]\n",
      " [ 0.  0.  2.  4.]]\n",
      "[[ 1.  2.  0.  7.]\n",
      " [ 0.  3.  3. 11.]\n",
      " [ 0.  0.  1.  2.]]\n",
      "[[1.        2.        0.        7.       ]\n",
      " [0.        1.        0.        1.6666666]\n",
      " [0.        0.        1.        2.       ]] \n",
      "\n",
      "[[1.        0.        0.        3.6666667]\n",
      " [0.        1.        0.        1.6666666]\n",
      " [0.        0.        1.        2.       ]]\n"
     ]
    }
   ],
   "source": [
    "matrix = np.asarray([\n",
    "    [1,2,0,7],\n",
    "    [0,3,3,11],\n",
    "    [1,2,2,11]\n",
    "], dtype=np.float32)\n",
    "print(matrix)\n",
    "\n",
    "matrix[2] = matrix[2] - matrix[0]\n",
    "print(matrix)\n",
    "\n",
    "matrix[2] = matrix[2]/2\n",
    "print(matrix)\n",
    "\n",
    "matrix[1] = matrix[1] - (3*matrix[2])\n",
    "\n",
    "matrix[1] = matrix[1]/3\n",
    "print(matrix,\"\\n\")\n",
    "\n",
    "matrix[0] = matrix[0] - (2*matrix[1])\n",
    "print(matrix)\n"
   ]
  },
  {
   "cell_type": "markdown",
   "metadata": {},
   "source": [
    "### Echelon Form"
   ]
  },
  {
   "cell_type": "code",
   "execution_count": 12,
   "metadata": {},
   "outputs": [
    {
     "name": "stdout",
     "output_type": "stream",
     "text": [
      "[[ 0.  0.  0.  7.]\n",
      " [ 0.  0.  1. 11.]\n",
      " [ 1.  2.  2. 11.]\n",
      " [ 0.  5.  5.  1.]]\n",
      "[[ 1.  2.  2. 11.]\n",
      " [ 0.  0.  1. 11.]\n",
      " [ 0.  0.  0.  7.]\n",
      " [ 0.  5.  5.  1.]]\n",
      "[[ 1.  2.  2. 11.]\n",
      " [ 0.  5.  5.  1.]\n",
      " [ 0.  0.  0.  7.]\n",
      " [ 0.  0.  1. 11.]]\n",
      "[[ 1.  2.  2. 11.]\n",
      " [ 0.  5.  5.  1.]\n",
      " [ 0.  0.  1. 11.]\n",
      " [ 0.  0.  0.  7.]]\n"
     ]
    }
   ],
   "source": [
    "matrix = np.asarray([\n",
    "    [0,0,0,7],\n",
    "    [0,0,1,11],\n",
    "    [1,2,2,11],\n",
    "    [0,5,5,1]\n",
    "], dtype=np.float32)\n",
    "print(matrix)\n",
    "\n",
    "matrix[[0,2]] = matrix[[2,0]]\n",
    "print(matrix)\n",
    "\n",
    "matrix[[1,3]] = matrix[[3,1]]\n",
    "print(matrix)\n",
    "\n",
    "matrix[[2,3]] = matrix[[3,2]]\n",
    "print(matrix)"
   ]
  },
  {
   "cell_type": "code",
   "execution_count": 13,
   "metadata": {},
   "outputs": [],
   "source": [
    "### Reduced Row Echolean Form"
   ]
  },
  {
   "cell_type": "markdown",
   "metadata": {},
   "source": [
    "### Inconsistency"
   ]
  },
  {
   "cell_type": "code",
   "execution_count": 14,
   "metadata": {},
   "outputs": [],
   "source": [
    "### where we cannot find any solutions"
   ]
  },
  {
   "cell_type": "markdown",
   "metadata": {},
   "source": [
    "### Infinite Solutions"
   ]
  },
  {
   "cell_type": "code",
   "execution_count": 15,
   "metadata": {},
   "outputs": [],
   "source": [
    "### Having Infinite Solutions"
   ]
  },
  {
   "cell_type": "markdown",
   "metadata": {},
   "source": [
    "### Homogeneity"
   ]
  },
  {
   "cell_type": "code",
   "execution_count": 16,
   "metadata": {},
   "outputs": [],
   "source": [
    "### If the linear equaltions have a contant of zero\n",
    "### Ex -  3x + 4y = 0"
   ]
  },
  {
   "cell_type": "markdown",
   "metadata": {},
   "source": [
    "### Singularity"
   ]
  },
  {
   "cell_type": "code",
   "execution_count": 17,
   "metadata": {},
   "outputs": [],
   "source": [
    "### when we can simplify the equations "
   ]
  },
  {
   "cell_type": "code",
   "execution_count": null,
   "metadata": {},
   "outputs": [],
   "source": []
  }
 ],
 "metadata": {
  "kernelspec": {
   "display_name": "Python 3",
   "language": "python",
   "name": "python3"
  },
  "language_info": {
   "codemirror_mode": {
    "name": "ipython",
    "version": 3
   },
   "file_extension": ".py",
   "mimetype": "text/x-python",
   "name": "python",
   "nbconvert_exporter": "python",
   "pygments_lexer": "ipython3",
   "version": "3.6.5"
  }
 },
 "nbformat": 4,
 "nbformat_minor": 2
}
